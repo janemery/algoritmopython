{
 "cells": [
  {
   "cell_type": "code",
   "execution_count": 17,
   "metadata": {},
   "outputs": [
    {
     "name": "stdout",
     "output_type": "stream",
     "text": [
      "Soma: 3 + 4 = 7\n",
      "Multiplicação: 7 * 3 = 21\n"
     ]
    }
   ],
   "source": [
    "primeiro_numero = int(input(\"Informe o primeiro número:\"))\n",
    "segundo_numero = int(input(\"Informe o segundo número:\"))\n",
    "\n",
    "soma = primeiro_numero + segundo_numero\n",
    "multiplica = soma * primeiro_numero\n",
    "print(\"Soma: \" + str(primeiro_numero) + \" + \" + str(segundo_numero) + \" = \" + str(soma))\n",
    "# print(\"Soma: {0}\".format(soma) + \" + {1}\".format(soma) + \" = {0}\".format(multiplica))\n",
    "\n",
    "print(\"Multiplicação: \" + str(soma) + \" * \" + str(primeiro_numero) + \" = \" + str(multiplica))"
   ]
  }
 ],
 "metadata": {
  "kernelspec": {
   "display_name": "Python 3.7.3 64-bit",
   "metadata": {
    "interpreter": {
     "hash": "5edc29c2ed010d6458d71a83433b383a96a8cbd3efe8531bc90c4b8a5b8bcec9"
    }
   },
   "name": "python3"
  },
  "language_info": {
   "name": "python",
   "nbconvert_exporter": "python",
   "version": "3.7.3-final"
  },
  "orig_nbformat": 2
 },
 "nbformat": 4,
 "nbformat_minor": 2
}