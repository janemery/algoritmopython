{
 "cells": [
  {
   "cell_type": "code",
   "execution_count": 1,
   "metadata": {},
   "outputs": [
    {
     "name": "stdout",
     "output_type": "stream",
     "text": [
      "Soma: 2 + 3 = 5\n",
      "Multiplicação: 5 * 2 = 10\n"
     ]
    }
   ],
   "source": [
    "primeiro_numero = int(input(\"Informe o primeiro número:\"))\n",
    "segundo_numero = int(input(\"Informe o segundo número:\"))\n",
    "\n",
    "soma = primeiro_numero + segundo_numero\n",
    "multiplica = soma * primeiro_numero\n",
    "print(\"Soma: \" + str(primeiro_numero) + \" + \" + str(segundo_numero) + \" = \" + str(soma))\n",
    "# print(\"Soma: {0}\".format(soma) + \" + {1}\".format(soma) + \" = {0}\".format(multiplica))\n",
    "\n",
    "print(\"Multiplicação: \" + str(soma) + \" * \" + str(primeiro_numero) + \" = \" + str(multiplica))"
   ]
  }
 ],
 "metadata": {
  "kernelspec": {
   "display_name": "Python 3.7.3 64-bit",
   "metadata": {
    "interpreter": {
     "hash": "5edc29c2ed010d6458d71a83433b383a96a8cbd3efe8531bc90c4b8a5b8bcec9"
    }
   },
   "name": "python3"
  },
  "language_info": {
   "codemirror_mode": {
    "name": "ipython",
    "version": 3
   },
   "file_extension": ".py",
   "mimetype": "text/x-python",
   "name": "python",
   "nbconvert_exporter": "python",
   "pygments_lexer": "ipython3",
   "version": "3.7.3"
  },
  "orig_nbformat": 2
 },
 "nbformat": 4,
 "nbformat_minor": 2
}
