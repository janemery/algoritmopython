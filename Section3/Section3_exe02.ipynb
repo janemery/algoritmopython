{
 "cells": [
  {
   "cell_type": "code",
   "execution_count": 9,
   "metadata": {},
   "outputs": [
    {
     "name": "stdout",
     "output_type": "stream",
     "text": [
      "estoque mínimo: 23\n",
      "estoque máximo: 34\n",
      "O estoque médio de peças é 28.5.\n"
     ]
    }
   ],
   "source": [
    "estoque_minimo = input(\"Informe o estoque mínimo:\")\n",
    "print(\"estoque mínimo: \" + str(estoque_minimo))\n",
    "\n",
    "estoque_maximo = input(\"Informe o estoque máximo:\")\n",
    "print(\"estoque máximo: \" + str(estoque_maximo))\n",
    "\n",
    "estoque_medio = (int(estoque_minimo) + int(estoque_maximo))/2\n",
    "print(\"O estoque médio de peças é \" + str(estoque_medio) + \".\")"
   ]
  }
 ],
 "metadata": {
  "kernelspec": {
   "display_name": "Python 3.7.3 64-bit",
   "metadata": {
    "interpreter": {
     "hash": "5edc29c2ed010d6458d71a83433b383a96a8cbd3efe8531bc90c4b8a5b8bcec9"
    }
   },
   "name": "python3"
  },
  "language_info": {
   "name": "python",
   "nbconvert_exporter": "python",
   "version": "3.7.3-final"
  },
  "orig_nbformat": 2
 },
 "nbformat": 4,
 "nbformat_minor": 2
}