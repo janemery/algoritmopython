{
 "cells": [
  {
   "cell_type": "code",
   "execution_count": 8,
   "metadata": {},
   "outputs": [
    {
     "name": "stdout",
     "output_type": "stream",
     "text": [
      "Programa soma de dois números\n",
      "3 + 4 = 7\n",
      "5 + 6 = 11\n",
      "7 + 8 = 15\n",
      "9 + 4 = 13\n",
      "2 + 3 = 5\n",
      "4 + 5 = 9\n",
      "55 + 66 = 121\n",
      "78 + 56 = 134\n",
      "23 + 12 = 35\n",
      "0 + 0 = 0\n",
      "Fim do programa\n"
     ]
    }
   ],
   "source": [
    "print(\"Programa soma de dois números\")\n",
    "\n",
    "while primeiro != 0:\n",
    "    primeiro = int(input(\"Informe o primeiro numero:\"))\n",
    "    segundo = int(input(\"Informe o segundo número: \"))\n",
    "    soma = int(primeiro + segundo)\n",
    "    print(str(primeiro) + \" + \" + str(segundo) + \" = \" + str(soma))\n",
    "print(\"Fim do programa\")"
   ]
  },
  {
   "cell_type": "code",
   "execution_count": null,
   "metadata": {},
   "outputs": [],
   "source": []
  }
 ],
 "metadata": {
  "kernelspec": {
   "display_name": "Python 3.7.3 64-bit",
   "metadata": {
    "interpreter": {
     "hash": "5edc29c2ed010d6458d71a83433b383a96a8cbd3efe8531bc90c4b8a5b8bcec9"
    }
   },
   "name": "python3"
  },
  "language_info": {
   "codemirror_mode": {
    "name": "ipython",
    "version": 3
   },
   "file_extension": ".py",
   "mimetype": "text/x-python",
   "name": "python",
   "nbconvert_exporter": "python",
   "pygments_lexer": "ipython3",
   "version": "3.7.3"
  },
  "orig_nbformat": 2
 },
 "nbformat": 4,
 "nbformat_minor": 2
}