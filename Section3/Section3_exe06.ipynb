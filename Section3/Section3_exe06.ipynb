{
 "cells": [
  {
   "cell_type": "code",
   "execution_count": 17,
   "metadata": {},
   "outputs": [
    {
     "name": "stdout",
     "output_type": "stream",
     "text": [
      "Você trabalhou 34 horas nesse mês. Com o valor/hora a R$167.0, seu salário será R$5678.00\n"
     ]
    }
   ],
   "source": [
    "valor_hora = float(input(\"Quanto você ganha por hora?\"))\n",
    "horas_trabalhadas = int(input(\"Quantas horas você trabalhou nesse mês?\"))\n",
    "salario = int(valor_hora) * float(horas_trabalhadas)\n",
    "print(\"Você trabalhou \"  + str(horas_trabalhadas) + \" horas nesse mês. Com o valor/hora a R$\" + str(valor_hora) + \", seu salário será R${0:.2f}\".format(salario) )\n"
   ]
  }
 ],
 "metadata": {
  "kernelspec": {
   "display_name": "Python 3.7.3 64-bit",
   "metadata": {
    "interpreter": {
     "hash": "5edc29c2ed010d6458d71a83433b383a96a8cbd3efe8531bc90c4b8a5b8bcec9"
    }
   },
   "name": "python3"
  },
  "language_info": {
   "codemirror_mode": {
    "name": "ipython",
    "version": 3
   },
   "file_extension": ".py",
   "mimetype": "text/x-python",
   "name": "python",
   "nbconvert_exporter": "python",
   "pygments_lexer": "ipython3",
   "version": "3.7.3"
  },
  "orig_nbformat": 2
 },
 "nbformat": 4,
 "nbformat_minor": 2
}