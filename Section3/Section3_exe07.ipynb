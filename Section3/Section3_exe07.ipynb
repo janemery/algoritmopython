{
 "cells": [
  {
   "cell_type": "code",
   "execution_count": 10,
   "metadata": {},
   "outputs": [
    {
     "name": "stdout",
     "output_type": "stream",
     "text": [
      "Programa cálculo do peso ideal:\n",
      "Sua altura é de 1.85M. O seu peso ideal seria 76.50Kg\n"
     ]
    }
   ],
   "source": [
    "print(\"Programa cálculo do peso ideal:\")\n",
    "\n",
    "altura = float(input(\"Qual é a sua altura?\"))\n",
    "peso_ideal = float((72.7 * altura) - 58)\n",
    "\n",
    "print(\"Sua altura é de {0:0.2f}M. O seu peso ideal seria {1:0.2f}Kg\".format(altura, peso_ideal))\n"
   ]
  }
 ],
 "metadata": {
  "kernelspec": {
   "display_name": "Python 3.7.3 64-bit",
   "metadata": {
    "interpreter": {
     "hash": "5edc29c2ed010d6458d71a83433b383a96a8cbd3efe8531bc90c4b8a5b8bcec9"
    }
   },
   "name": "python3"
  },
  "language_info": {
   "codemirror_mode": {
    "name": "ipython",
    "version": 3
   },
   "file_extension": ".py",
   "mimetype": "text/x-python",
   "name": "python",
   "nbconvert_exporter": "python",
   "pygments_lexer": "ipython3",
   "version": "3.7.3"
  },
  "orig_nbformat": 2
 },
 "nbformat": 4,
 "nbformat_minor": 2
}