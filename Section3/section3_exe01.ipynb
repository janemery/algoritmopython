{
 "cells": [
  {
   "cell_type": "code",
   "execution_count": 3,
   "metadata": {},
   "outputs": [
    {
     "name": "stdout",
     "output_type": "stream",
     "text": [
      "Peça código: [qwe] - Total a pagar: R$612 reais\n"
     ]
    }
   ],
   "source": [
    "codigo_peca = str(input(\"Informe o codigo da peça\"))\n",
    "\n",
    "valor_peca = int(input(\"Informe o valor da peça\"))\n",
    "\n",
    "quantidade_peca = int(input(\"Informe a quantidade de peças\"))\n",
    "\n",
    "valor_total = valor_peca * quantidade_peca\n",
    "\n",
    "print(\"Peça código: [\" + str(codigo_peca) + \"] - Total a pagar: R$\" + str(valor_total) + \" reais\")\n",
    "\n"
   ]
  },
  {
   "cell_type": "markdown",
   "metadata": {},
   "source": [
    "\"\"\"\n",
    "Section3_exe01\n",
    "\n",
    "Identifique os dados de entrada, processamento e saida no algoritmo abaixo:\n",
    "\"\"\"\n",
    "\n",
    "entrada1 = receber codigo da peça\n",
    "entrada2 = receber valor da peça\n",
    "entrada3 = receber quantidade de peças\n",
    "processamento = calcular o  valor total das peças (quantidade * valor da peça)\n",
    "saída = mostrar o código da peça e seu valor total "
   ]
  }
 ],
 "metadata": {
  "interpreter": {
   "hash": "5edc29c2ed010d6458d71a83433b383a96a8cbd3efe8531bc90c4b8a5b8bcec9"
  },
  "kernelspec": {
   "display_name": "Python 3.7.3 64-bit",
   "language": "python",
   "name": "python3"
  },
  "language_info": {
   "codemirror_mode": {
    "name": "ipython",
    "version": 3
   },
   "file_extension": ".py",
   "mimetype": "text/x-python",
   "name": "python",
   "nbconvert_exporter": "python",
   "pygments_lexer": "ipython3",
   "version": "3.7.3"
  },
  "orig_nbformat": 4
 },
 "nbformat": 4,
 "nbformat_minor": 2
}
