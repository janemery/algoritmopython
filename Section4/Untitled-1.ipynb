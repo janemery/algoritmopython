{
 "cells": [
  {
   "cell_type": "code",
   "execution_count": 2,
   "metadata": {},
   "outputs": [
    {
     "name": "stdout",
     "output_type": "stream",
     "text": [
      "transferencia realizada\n",
      "O Saldo após a tranferencia é: 70\n"
     ]
    }
   ],
   "source": [
    "saldo = 100\n",
    "valor_transf = 30\n",
    "\n",
    "if(valor_transf > saldo):\n",
    "    print(\"Saldo insuficiente\")\n",
    "else:\n",
    "    print(\"transferencia realizada\")\n",
    "    saldo = saldo - valor_transf\n",
    "    print(\"O Saldo após a tranferencia é: \" + str(saldo))"
   ]
  },
  {
   "cell_type": "markdown",
   "metadata": {},
   "source": [
    "# tranferencia com cheque especial\n",
    "recebe valor do saldo\n",
    "recebe valor do cheque especial\n",
    "recebe valor da transferencia\n",
    "se valor de transferencia é maior que saldo + cheque especial\n",
    "escreve \"Saldo insuficiente\"\n",
    "se valor de tranferencia é maior que saldo e menor ou igual a saldo + cheque especial\n",
    "escreva \"Você está usando o cheque especial\"\n",
    "escreva saldo depois do saque\n",
    "se o valor de transferencia é menor que saldo\n",
    "escreva \"saque realizado\"\n",
    "escreva saldo depois do saque"
   ]
  },
  {
   "cell_type": "code",
   "execution_count": 12,
   "metadata": {},
   "outputs": [
    {
     "name": "stdout",
     "output_type": "stream",
     "text": [
      "Saldo: 100\n",
      "Transferencia: 80\n",
      "Cheque especial: 50\n",
      "transferencia realizada\n",
      "O Saldo após a tranferencia é: 20\n"
     ]
    }
   ],
   "source": [
    "# adiciona cheque especial\n",
    "saldo = 100\n",
    "valor_transf = 80\n",
    "cheque_especial = 50\n",
    "\n",
    "print(\"Saldo: \" + str(saldo))\n",
    "print(\"Transferencia: \" + str(valor_transf))\n",
    "print(\"Cheque especial: \" + str(cheque_especial))\n",
    "if(valor_transf > (saldo + cheque_especial)):\n",
    "    print(\"Saldo insuficiente\")\n",
    "elif((saldo + cheque_especial) >= valor_transf > saldo):\n",
    "    print(\"transferencia realizada\")\n",
    "    print(\"você esta usando cheque especial\")\n",
    "    saldo = saldo - valor_transf\n",
    "    print(\"O Saldo após a tranferencia é: \" + str(saldo))\n",
    "else:\n",
    "    print(\"transferencia realizada\")\n",
    "    saldo = saldo - valor_transf\n",
    "    print(\"O Saldo após a tranferencia é: \" + str(saldo))"
   ]
  }
 ],
 "metadata": {
  "kernelspec": {
   "display_name": "Python 3.7.3 64-bit",
   "metadata": {
    "interpreter": {
     "hash": "5edc29c2ed010d6458d71a83433b383a96a8cbd3efe8531bc90c4b8a5b8bcec9"
    }
   },
   "name": "python3"
  },
  "language_info": {
   "codemirror_mode": {
    "name": "ipython",
    "version": 3
   },
   "file_extension": ".py",
   "mimetype": "text/x-python",
   "name": "python",
   "nbconvert_exporter": "python",
   "pygments_lexer": "ipython3",
   "version": "3.7.3"
  },
  "orig_nbformat": 2
 },
 "nbformat": 4,
 "nbformat_minor": 2
}