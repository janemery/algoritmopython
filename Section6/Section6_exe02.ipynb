{
 "cells": [
  {
   "cell_type": "code",
   "execution_count": 3,
   "metadata": {},
   "outputs": [
    {
     "name": "stdout",
     "output_type": "stream",
     "text": [
      "1 - número 1 é positivo.\n",
      "2 - número 2 é positivo.\n",
      "3 - número 3 é positivo.\n",
      "4 - número 4 é positivo.\n",
      "5 - número 5 é positivo.\n",
      "6 - número 6 é positivo.\n",
      "7 - número 7 é positivo.\n",
      "8 - número 8 é positivo.\n",
      "9 - número 9 é positivo.\n",
      "10 - número informado é zero.\n",
      "Fim do programa\n"
     ]
    }
   ],
   "source": [
    "i = 1\n",
    "while(i <= 10):\n",
    "    numero = int(input(\"Informe um número:\"))\n",
    "    if(numero > 0):\n",
    "        a = numero\n",
    "        print(str(i) + \" - número \" + str(a) + \" é positivo.\")\n",
    "    elif(numero < 0):\n",
    "        b = numero\n",
    "        print(str(i) + \" - número \" + str(b) + \" é negativo.\")\n",
    "    elif numero == 0:\n",
    "        print(str(i) + \" - número informado é zero.\")\n",
    "    i += 1\n",
    "print(\"Fim do programa\")"
   ]
  }
 ],
 "metadata": {
  "kernelspec": {
   "display_name": "Python 3.7.3 64-bit",
   "metadata": {
    "interpreter": {
     "hash": "5edc29c2ed010d6458d71a83433b383a96a8cbd3efe8531bc90c4b8a5b8bcec9"
    }
   },
   "name": "python3"
  },
  "language_info": {
   "codemirror_mode": {
    "name": "ipython",
    "version": 3
   },
   "file_extension": ".py",
   "mimetype": "text/x-python",
   "name": "python",
   "nbconvert_exporter": "python",
   "pygments_lexer": "ipython3",
   "version": "3.7.3"
  },
  "orig_nbformat": 2
 },
 "nbformat": 4,
 "nbformat_minor": 2
}