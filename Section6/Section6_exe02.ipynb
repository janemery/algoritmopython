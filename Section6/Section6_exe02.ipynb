{
 "cells": [
  {
   "cell_type": "code",
   "execution_count": 20,
   "metadata": {},
   "outputs": [
    {
     "name": "stdout",
     "output_type": "stream",
     "text": [
      "Número 34 é par.\n",
      "Número 54 é par.\n",
      "Número 56 é par.\n",
      "Número 78 é par.\n",
      "Número 23 é impar.\n",
      "Número 89 é impar.\n",
      "Número 34 é par.\n",
      "Número 56 é par.\n",
      "Número 12 é par.\n",
      "Número 78 é par.\n"
     ]
    }
   ],
   "source": [
    "i = 1\n",
    "while(i <= 10):\n",
    "    numero = int(input(\"Informe um número:\"))\n",
    "    if(numero % 2 == 0):\n",
    "        a = numero\n",
    "        print(\"Número \" + str(a) + \" é par.\")\n",
    "    else:\n",
    "        b = numero\n",
    "        print(\"Número \" + str(b) + \" é impar.\")\n",
    "    i += 1"
   ]
  }
 ],
 "metadata": {
  "kernelspec": {
   "display_name": "Python 3.7.3 64-bit",
   "metadata": {
    "interpreter": {
     "hash": "5edc29c2ed010d6458d71a83433b383a96a8cbd3efe8531bc90c4b8a5b8bcec9"
    }
   },
   "name": "python3"
  },
  "language_info": {
   "codemirror_mode": {
    "name": "ipython",
    "version": 3
   },
   "file_extension": ".py",
   "mimetype": "text/x-python",
   "name": "python",
   "nbconvert_exporter": "python",
   "pygments_lexer": "ipython3",
   "version": "3.7.3"
  },
  "orig_nbformat": 2
 },
 "nbformat": 4,
 "nbformat_minor": 2
}