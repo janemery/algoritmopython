{
 "cells": [
  {
   "cell_type": "code",
   "execution_count": 7,
   "metadata": {},
   "outputs": [
    {
     "name": "stdout",
     "output_type": "stream",
     "text": [
      "4 é um número par.\n",
      "3 é um número impar.\n"
     ]
    }
   ],
   "source": [
    "numero = int(input(\"Informe um número:\"))\n",
    "if(numero % 2 == 0):\n",
    "    p = numero\n",
    "    print(str(p) + \" é um número par.\")\n",
    "elif(numero % 2 != 0):\n",
    "    i = numero\n",
    "print(str(i) + \" é um número impar.\")"
   ]
  }
 ],
 "metadata": {
  "kernelspec": {
   "display_name": "Python 3.7.3 64-bit",
   "metadata": {
    "interpreter": {
     "hash": "5edc29c2ed010d6458d71a83433b383a96a8cbd3efe8531bc90c4b8a5b8bcec9"
    }
   },
   "name": "python3"
  },
  "language_info": {
   "codemirror_mode": {
    "name": "ipython",
    "version": 3
   },
   "file_extension": ".py",
   "mimetype": "text/x-python",
   "name": "python",
   "nbconvert_exporter": "python",
   "pygments_lexer": "ipython3",
   "version": "3.7.3"
  },
  "orig_nbformat": 2
 },
 "nbformat": 4,
 "nbformat_minor": 2
}