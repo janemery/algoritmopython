{
 "cells": [
  {
   "cell_type": "code",
   "execution_count": 4,
   "metadata": {},
   "outputs": [
    {
     "name": "stdout",
     "output_type": "stream",
     "text": [
      "O seu peso ideal seria 85.95Kg\n"
     ]
    }
   ],
   "source": [
    "altura = float(input(\"informe a altura:\"))\n",
    "sexo = input(\"Informe o sexo m/f:\")\n",
    "\n",
    "if(sexo.lower() == 'm'):\n",
    "    peso_ideal = (72.7 * altura) - 58\n",
    "elif(sexo.lower() == 'f'):\n",
    "    peso_ideal = (62.1 * altura) - 44.7\n",
    "else:\n",
    "    peso_ideal = 0\n",
    "    print(\"Sexo não reconhecido.\")\n",
    "print(\"O seu peso ideal seria {0:.2f}\".format(peso_ideal) + \"Kg\")"
   ]
  }
 ],
 "metadata": {
  "kernelspec": {
   "display_name": "Python 3.7.3 64-bit",
   "metadata": {
    "interpreter": {
     "hash": "5edc29c2ed010d6458d71a83433b383a96a8cbd3efe8531bc90c4b8a5b8bcec9"
    }
   },
   "name": "python3"
  },
  "language_info": {
   "name": "python",
   "nbconvert_exporter": "python",
   "version": "3.7.3-final"
  },
  "orig_nbformat": 2
 },
 "nbformat": 4,
 "nbformat_minor": 2
}