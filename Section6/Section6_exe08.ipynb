{
 "cells": [
  {
   "cell_type": "code",
   "execution_count": 5,
   "metadata": {},
   "outputs": [
    {
     "name": "stdout",
     "output_type": "stream",
     "text": [
      "O número -4 é par e negativo\n"
     ]
    }
   ],
   "source": [
    "inteiro = int(input(\"Informe um número: \"))\n",
    "if(inteiro % 2 == 0):\n",
    "    if(inteiro > 0):\n",
    "        print(\"O número {0} é par e positivo.\".format(inteiro))\n",
    "    else:\n",
    "        print(\"O número {0} é par e negativo.\".format(inteiro))\n",
    "else:\n",
    "    if(inteiro > 0):\n",
    "        print(\"O número {0} é impar e positivo.\".format(inteiro))\n",
    "    else:\n",
    "        print(\"O número {0} é impar e negativo.\".format(inteiro))"
   ]
  }
 ],
 "metadata": {
  "kernelspec": {
   "display_name": "Python 3.7.3 64-bit",
   "metadata": {
    "interpreter": {
     "hash": "5edc29c2ed010d6458d71a83433b383a96a8cbd3efe8531bc90c4b8a5b8bcec9"
    }
   },
   "name": "python3"
  },
  "language_info": {
   "codemirror_mode": {
    "name": "ipython",
    "version": 3
   },
   "file_extension": ".py",
   "mimetype": "text/x-python",
   "name": "python",
   "nbconvert_exporter": "python",
   "pygments_lexer": "ipython3",
   "version": "3.7.3"
  },
  "orig_nbformat": 2
 },
 "nbformat": 4,
 "nbformat_minor": 2
}