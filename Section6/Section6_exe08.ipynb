{
 "cells": [
  {
   "cell_type": "code",
   "execution_count": 7,
   "metadata": {},
   "outputs": [
    {
     "name": "stdout",
     "output_type": "stream",
     "text": [
      "O número -5 é ímpar\n",
      "e negativo.\n"
     ]
    }
   ],
   "source": [
    "inteiro = input(\"Informe um número: \")\n",
    "if(int(inteiro) % 2 == 0):\n",
    "    print(\"O número \" + inteiro + \" é par\")\n",
    "else:\n",
    "    print(\"O número \" + inteiro + \" é ímpar\")\n",
    "if(int(inteiro) > 0):\n",
    "    print(\"e positivo.\")\n",
    "else:\n",
    "    print(\"e negativo.\")"
   ]
  }
 ],
 "metadata": {
  "kernelspec": {
   "display_name": "Python 3.7.3 64-bit",
   "metadata": {
    "interpreter": {
     "hash": "5edc29c2ed010d6458d71a83433b383a96a8cbd3efe8531bc90c4b8a5b8bcec9"
    }
   },
   "name": "python3"
  },
  "language_info": {
   "codemirror_mode": {
    "name": "ipython",
    "version": 3
   },
   "file_extension": ".py",
   "mimetype": "text/x-python",
   "name": "python",
   "nbconvert_exporter": "python",
   "pygments_lexer": "ipython3",
   "version": "3.7.3"
  },
  "orig_nbformat": 2
 },
 "nbformat": 4,
 "nbformat_minor": 2
}