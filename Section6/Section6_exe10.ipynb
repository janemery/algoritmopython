{
 "cells": [
  {
   "cell_type": "code",
   "execution_count": 13,
   "metadata": {},
   "outputs": [
    {
     "name": "stdout",
     "output_type": "stream",
     "text": [
      "Nadador é do grupo adulto.\n"
     ]
    }
   ],
   "source": [
    "idade_nadador = int(input(\"Qual é a idade do nadador?\"))\n",
    "\n",
    "if(idade_nadador < 5):\n",
    "    print(\"Este nadador não está em um grupo.\")\n",
    "elif(5 <= idade_nadador <= 7):\n",
    "    print(\"Nadador é do grupo infantil A.\")\n",
    "elif(8 <= idade_nadador <= 11):\n",
    "    print(\"Nadador é do grupo infantil B.\")\n",
    "elif(12 <= idade_nadador <= 13):\n",
    "    print(\"Nadador é do grupo juvenil A.\")\n",
    "elif(14 <= idade_nadador <= 17):\n",
    "    print(\"Nadador é do grupo juvenil B.\")\n",
    "elif(idade_nadador >= 18):\n",
    "    print(\"Nadador é do grupo adulto.\")\n"
   ]
  }
 ],
 "metadata": {
  "kernelspec": {
   "display_name": "Python 3.7.3 64-bit",
   "metadata": {
    "interpreter": {
     "hash": "5edc29c2ed010d6458d71a83433b383a96a8cbd3efe8531bc90c4b8a5b8bcec9"
    }
   },
   "name": "python3"
  },
  "language_info": {
   "codemirror_mode": {
    "name": "ipython",
    "version": 3
   },
   "file_extension": ".py",
   "mimetype": "text/x-python",
   "name": "python",
   "nbconvert_exporter": "python",
   "pygments_lexer": "ipython3",
   "version": "3.7.3"
  },
  "orig_nbformat": 2
 },
 "nbformat": 4,
 "nbformat_minor": 2
}