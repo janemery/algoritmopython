{
 "cells": [
  {
   "cell_type": "code",
   "execution_count": 3,
   "metadata": {},
   "outputs": [
    {
     "name": "stdout",
     "output_type": "stream",
     "text": [
      "João pescou 64.00Kg, o excesso foi de 14.0kg e a multa aplicada foi de R$56.00.\n"
     ]
    }
   ],
   "source": [
    "e = 0\n",
    "m = 0\n",
    "#p = 0\n",
    "\n",
    "p = float(input(\"Informe o peso dos peixes:\"))\n",
    "\n",
    "if(p <= 50):\n",
    "    #print(\"João pescou \" + str(p) + \"Kg. O excesso foi de \" + str(e) + \"kg, e a multa foi de R$ \" + str(m) + \".\")\n",
    "    print(\"João pescou {0:.2f}Kg, não houve excesso, portanto nenhuma multa.\".format(p))\n",
    "elif(p > 50):\n",
    "    e = p - 50\n",
    "    m = e * 4\n",
    "    #print(\"João pescou \" + str(p) + \"Kg. O excesso foi de \" + str(e) + \"kg, e a multa foi de R$ \" + str(m) + \".\")\n",
    "    print(\"João pescou {0:.2f}Kg, o excesso foi de {1}kg e a multa aplicada foi de R${2:.2f}.\".format(p, e, m))\n"
   ]
  }
 ],
 "metadata": {
  "kernelspec": {
   "display_name": "Python 3.7.3 64-bit",
   "metadata": {
    "interpreter": {
     "hash": "5edc29c2ed010d6458d71a83433b383a96a8cbd3efe8531bc90c4b8a5b8bcec9"
    }
   },
   "name": "python3"
  },
  "language_info": {
   "codemirror_mode": {
    "name": "ipython",
    "version": 3
   },
   "file_extension": ".py",
   "mimetype": "text/x-python",
   "name": "python",
   "nbconvert_exporter": "python",
   "pygments_lexer": "ipython3",
   "version": "3.7.3"
  },
  "orig_nbformat": 2
 },
 "nbformat": 4,
 "nbformat_minor": 2
}