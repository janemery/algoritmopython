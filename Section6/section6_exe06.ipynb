{
 "cells": [
  {
   "cell_type": "code",
   "execution_count": 5,
   "metadata": {},
   "outputs": [
    {
     "name": "stdout",
     "output_type": "stream",
     "text": [
      "34 horas trabalhadas. O salário total é R$340.0.\n",
      "E o salário excedente é R$0.\n"
     ]
    }
   ],
   "source": [
    "vl_hora_normal = 10.00\n",
    "excesso = 0\n",
    "vl_hora_excedente = 20.00\n",
    "sal_total = 0\n",
    "sal_excedente = 0\n",
    "\n",
    "codigo = input(\"Informe o código do funcionário:\")\n",
    "qtde_horas = input(\"Informe o número de horas trabalhadas:\")\n",
    "if(int(qtde_horas) <= 50):\n",
    "    sal_total = vl_hora_normal * int(qtde_horas)\n",
    "    print(str(qtde_horas) + \" horas trabalhadas. O salário total é R$\" + str(sal_total) + \".\")\n",
    "    print(\"E o salário excedente é R$\" + str(sal_excedente) + \".\")\n",
    "elif(int(qtde_horas) > 50):\n",
    "    e = int(qtde_horas) - 50\n",
    "    sal_excedente = int(e) * vl_hora_excedente\n",
    "    sal_total = (vl_hora_normal * 50) + sal_excedente\n",
    "    print(str(qtde_horas) + \" horas trabalhadas. O salário total é R$\" + str(sal_total) + \",00 e o salário excedente é R$\" + str(sal_excedente) + \",00.\")"
   ]
  }
 ],
 "metadata": {
  "kernelspec": {
   "display_name": "Python 3.7.3 64-bit",
   "metadata": {
    "interpreter": {
     "hash": "5edc29c2ed010d6458d71a83433b383a96a8cbd3efe8531bc90c4b8a5b8bcec9"
    }
   },
   "name": "python3"
  },
  "language_info": {
   "codemirror_mode": {
    "name": "ipython",
    "version": 3
   },
   "file_extension": ".py",
   "mimetype": "text/x-python",
   "name": "python",
   "nbconvert_exporter": "python",
   "pygments_lexer": "ipython3",
   "version": "3.7.3"
  },
  "orig_nbformat": 2
 },
 "nbformat": 4,
 "nbformat_minor": 2
}