{
 "cells": [
  {
   "cell_type": "code",
   "execution_count": 32,
   "metadata": {},
   "outputs": [
    {
     "name": "stdout",
     "output_type": "stream",
     "text": [
      "123 horas trabalhadas. O salário total é R$500,00 e o salário excedente é R$1460,00.\n"
     ]
    }
   ],
   "source": [
    "vl_hora_normal = 10\n",
    "excesso = 0\n",
    "vl_hora_excedente = 20\n",
    "sal_total = 0\n",
    "sal_excedente = 0\n",
    "\n",
    "c = input(\"Informe o código do funcionário\")\n",
    "n = input(\"Informe o número de horas trabalhadas\")\n",
    "if(int(n) <= 50):\n",
    "    sal_total = 10 * int(n)\n",
    "    print(str(n) + \" horas trabalhadas. O salário total é R$\" + str(sal_total) + \",00.\")\n",
    "elif(int(n) > 50):\n",
    "    sal_total = 10 * 50\n",
    "    e = int(n) - 50\n",
    "    sal_excedente = int(e) * 20\n",
    "    print(str(n) + \" horas trabalhadas. O salário total é R$\" + str(sal_total) + \",00 e o salário excedente é R$\" + str(sal_excedente) + \",00.\")"
   ]
  }
 ],
 "metadata": {
  "kernelspec": {
   "display_name": "Python 3.7.3 64-bit",
   "metadata": {
    "interpreter": {
     "hash": "5edc29c2ed010d6458d71a83433b383a96a8cbd3efe8531bc90c4b8a5b8bcec9"
    }
   },
   "name": "python3"
  },
  "language_info": {
   "codemirror_mode": {
    "name": "ipython",
    "version": 3
   },
   "file_extension": ".py",
   "mimetype": "text/x-python",
   "name": "python",
   "nbconvert_exporter": "python",
   "pygments_lexer": "ipython3",
   "version": "3.7.3"
  },
  "orig_nbformat": 2
 },
 "nbformat": 4,
 "nbformat_minor": 2
}