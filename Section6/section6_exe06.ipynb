{
 "cells": [
  {
   "cell_type": "code",
   "execution_count": 2,
   "metadata": {},
   "outputs": [
    {
     "name": "stdout",
     "output_type": "stream",
     "text": [
      "50 horas trabalhadas. O salário total é R$500.00, não há salário excedente.\n"
     ]
    }
   ],
   "source": [
    "vl_hora_normal = 10.00\n",
    "vl_hora_excedente = 20.00\n",
    "sal_total = 0\n",
    "sal_excedente = 0\n",
    "\n",
    "codigo = input(\"Informe o código do funcionário:\")\n",
    "qtde_horas = input(\"Informe o número de horas trabalhadas:\")\n",
    "\n",
    "if(int(qtde_horas) > 50):\n",
    "    excesso = int(qtde_horas) - 50\n",
    "    sal_excedente = excesso * vl_hora_excedente\n",
    "    sal_total = (vl_hora_normal * 50) + sal_excedente\n",
    "\n",
    "    print(\"{0} horas trabalhadas. O salário total é R${1:.2f}, e o salário excedente é R${2:.2f}.\".format(qtde_horas, sal_total, sal_excedente))\n",
    "else:\n",
    "    sal_total = vl_hora_normal * int(qtde_horas)\n",
    "    print(\"{0} horas trabalhadas. O salário total é R${1:.2f}, não há salário excedente.\".format(qtde_horas, sal_total))"
   ]
  }
 ],
 "metadata": {
  "kernelspec": {
   "display_name": "Python 3.7.3 64-bit",
   "metadata": {
    "interpreter": {
     "hash": "5edc29c2ed010d6458d71a83433b383a96a8cbd3efe8531bc90c4b8a5b8bcec9"
    }
   },
   "name": "python3"
  },
  "language_info": {
   "codemirror_mode": {
    "name": "ipython",
    "version": 3
   },
   "file_extension": ".py",
   "mimetype": "text/x-python",
   "name": "python",
   "nbconvert_exporter": "python",
   "pygments_lexer": "ipython3",
   "version": "3.7.3"
  },
  "orig_nbformat": 2
 },
 "nbformat": 4,
 "nbformat_minor": 2
}