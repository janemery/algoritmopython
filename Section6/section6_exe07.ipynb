{
 "cells": [
  {
   "cell_type": "code",
   "execution_count": 5,
   "metadata": {},
   "outputs": [
    {
     "name": "stdout",
     "output_type": "stream",
     "text": [
      "Primeiro número: 2. Seu quadrado: 4\n",
      "Segundo número:  3. Seu quadrado: 9\n",
      "Terceiro número: 4. Seu quadrado: 16\n",
      "Quarto número:   5. Seu quadrado: 25\n"
     ]
    }
   ],
   "source": [
    "primeiro = int(input(\"informe o primeiro número: \"))\n",
    "q1 = primeiro ** 2\n",
    "segundo = int(input(\"informe o segundo número: \"))\n",
    "q2 = segundo ** 2\n",
    "terceiro = int(input(\"informe o terceiro número: \"))\n",
    "q3 = terceiro ** 2\n",
    "quarto = int(input(\"informe o quarto número: \"))\n",
    "q4 = quarto ** 2\n",
    "if(q3 >= 1000):\n",
    "    print(\"O quadrado do terceiro número: \" + str(q3))\n",
    "else:\n",
    "    print(\"Primeiro número: {0}. Seu quadrado: {1}\".format(primeiro, q1))\n",
    "    print(\"Segundo número:  {0}. Seu quadrado: {1}\".format(segundo, q2))\n",
    "    print(\"Terceiro número: {0}. Seu quadrado: {1}\".format(terceiro, q3))\n",
    "    print(\"Quarto número:   {0}. Seu quadrado: {1}\".format(quarto, q4))\n"
   ]
  },
  {
   "cell_type": "code",
   "execution_count": null,
   "metadata": {},
   "outputs": [],
   "source": []
  }
 ],
 "metadata": {
  "kernelspec": {
   "display_name": "Python 3.7.3 64-bit",
   "metadata": {
    "interpreter": {
     "hash": "5edc29c2ed010d6458d71a83433b383a96a8cbd3efe8531bc90c4b8a5b8bcec9"
    }
   },
   "name": "python3"
  },
  "language_info": {
   "codemirror_mode": {
    "name": "ipython",
    "version": 3
   },
   "file_extension": ".py",
   "mimetype": "text/x-python",
   "name": "python",
   "nbconvert_exporter": "python",
   "pygments_lexer": "ipython3",
   "version": "3.7.3"
  },
  "orig_nbformat": 2
 },
 "nbformat": 4,
 "nbformat_minor": 2
}