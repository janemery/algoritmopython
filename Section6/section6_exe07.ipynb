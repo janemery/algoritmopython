{
 "cells": [
  {
   "cell_type": "code",
   "execution_count": 13,
   "metadata": {},
   "outputs": [
    {
     "name": "stdout",
     "output_type": "stream",
     "text": [
      "O quadrado do terceiro número: 1089\n"
     ]
    }
   ],
   "source": [
    "primeiro = int(input(\"informe o primeiro número: \"))\n",
    "q1 = primeiro ** 2\n",
    "segundo = int(input(\"informe o segundo número: \"))\n",
    "q2 = segundo ** 2\n",
    "terceiro = int(input(\"informe o terceiro número: \"))\n",
    "q3 = terceiro ** 2\n",
    "quarto = int(input(\"informe o quarto número: \"))\n",
    "q4 = quarto ** 2\n",
    "if(q3 >= 1000):\n",
    "    print(\"O quadrado do terceiro número: \" + str(q3))\n",
    "else:\n",
    "    print(\"Primeiro número: \" + str(primeiro) + \". Seu quadrado: \" + str(q1))\n",
    "    print(\"Segundo número:  \" + str(segundo) +  \". Seu quadrado: \" + str(q2))\n",
    "    print(\"Terceiro número: \" + str(terceiro) + \". Seu quadrado: \" + str(q3))\n",
    "    print(\"Quarto número:   \" + str(quarto) +   \". Seu quadrado: \" + str(q4))\n"
   ]
  },
  {
   "cell_type": "code",
   "execution_count": null,
   "metadata": {},
   "outputs": [],
   "source": []
  }
 ],
 "metadata": {
  "kernelspec": {
   "display_name": "Python 3.7.3 64-bit",
   "metadata": {
    "interpreter": {
     "hash": "5edc29c2ed010d6458d71a83433b383a96a8cbd3efe8531bc90c4b8a5b8bcec9"
    }
   },
   "name": "python3"
  },
  "language_info": {
   "codemirror_mode": {
    "name": "ipython",
    "version": 3
   },
   "file_extension": ".py",
   "mimetype": "text/x-python",
   "name": "python",
   "nbconvert_exporter": "python",
   "pygments_lexer": "ipython3",
   "version": "3.7.3"
  },
  "orig_nbformat": 2
 },
 "nbformat": 4,
 "nbformat_minor": 2
}