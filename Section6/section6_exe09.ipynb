{
 "cells": [
  {
   "cell_type": "code",
   "execution_count": 41,
   "metadata": {},
   "outputs": [
    {
     "name": "stdout",
     "output_type": "stream",
     "text": [
      "O índice de poluição atual é: 0.3ppm\n",
      "O grupo 1 deve suspender suas atividades.\n"
     ]
    }
   ],
   "source": [
    "limite_minimo = 0.25\n",
    "limiteG1 = 0.3\n",
    "limiteG2 = 0.4\n",
    "limiteG3 = 0.5\n",
    "\n",
    "indiceP = float(input(\"Informe o índice de poluição: \"))\n",
    "print(\"O índice de poluição atual é: \" + str(indiceP) + \"ppm\")\n",
    "\n",
    "if(indiceP <= limite_minimo):\n",
    "    print(\"Todas as empresas dos 3 grupos podem prosseguir com suas atividades.\")\n",
    "elif(limite_minimo <= indiceP >= float(limiteG3)):\n",
    "    print(\"O grupo 3 deve suspender suas atividades.\")\n",
    "elif(float(indiceP) >= float(limiteG2)):\n",
    "    print(\"O grupo 2 deve suspender suas atividades.\")\n",
    "elif(float(indiceP) >= float(limiteG1)):\n",
    "    print(\"O grupo 1 deve suspender suas atividades.\")"
   ]
  }
 ],
 "metadata": {
  "kernelspec": {
   "display_name": "Python 3.7.3 64-bit",
   "metadata": {
    "interpreter": {
     "hash": "5edc29c2ed010d6458d71a83433b383a96a8cbd3efe8531bc90c4b8a5b8bcec9"
    }
   },
   "name": "python3"
  },
  "language_info": {
   "codemirror_mode": {
    "name": "ipython",
    "version": 3
   },
   "file_extension": ".py",
   "mimetype": "text/x-python",
   "name": "python",
   "nbconvert_exporter": "python",
   "pygments_lexer": "ipython3",
   "version": "3.7.3"
  },
  "orig_nbformat": 2
 },
 "nbformat": 4,
 "nbformat_minor": 2
}