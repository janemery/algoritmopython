{
 "cells": [
  {
   "cell_type": "code",
   "execution_count": 10,
   "metadata": {},
   "outputs": [
    {
     "name": "stdout",
     "output_type": "stream",
     "text": [
      "O programa informará o maior número digitado\n",
      "        PARA ENCERRAR DIGITE 0\n",
      "\n",
      "O maior número digitado foi 90\n"
     ]
    }
   ],
   "source": [
    "\n",
    "maior = 0\n",
    "print(\"O programa informará o maior número digitado\")\n",
    "print(\"        PARA ENCERRAR DIGITE 0\\n\")\n",
    "\n",
    "numero = int(input(\"digite um número:\"))\n",
    "\n",
    "while numero != 0:\n",
    "    if(numero > maior):\n",
    "        maior = numero\n",
    "    numero = int(input(\"digite um número:\"))\n",
    "print(\"O maior número digitado foi {0}\".format(maior))"
   ]
  }
 ],
 "metadata": {
  "kernelspec": {
   "display_name": "Python 3.7.3 64-bit",
   "metadata": {
    "interpreter": {
     "hash": "5edc29c2ed010d6458d71a83433b383a96a8cbd3efe8531bc90c4b8a5b8bcec9"
    }
   },
   "name": "python3"
  },
  "language_info": {
   "codemirror_mode": {
    "name": "ipython",
    "version": 3
   },
   "file_extension": ".py",
   "mimetype": "text/x-python",
   "name": "python",
   "nbconvert_exporter": "python",
   "pygments_lexer": "ipython3",
   "version": "3.7.3"
  },
  "orig_nbformat": 2
 },
 "nbformat": 4,
 "nbformat_minor": 2
}