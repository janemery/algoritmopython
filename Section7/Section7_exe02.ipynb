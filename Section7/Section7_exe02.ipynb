{
 "cells": [
  {
   "cell_type": "code",
   "execution_count": 21,
   "metadata": {},
   "outputs": [
    {
     "name": "stdout",
     "output_type": "stream",
     "text": [
      "1, 2, 3, 4, 5, 6, 7, 8, 9, 10, múltiplo de 10.\n",
      "11, 12, 13, 14, 15, 16, 17, 18, 19, 20, múltiplo de 10.\n",
      "21, 22, 23, 24, 25, 26, 27, 28, 29, 30, múltiplo de 10.\n",
      "31, 32, 33, 34, 35, 36, 37, 38, 39, 40, múltiplo de 10.\n",
      "41, 42, 43, 44, 45, 46, 47, 48, 49, 50, múltiplo de 10.\n",
      "51, 52, 53, 54, 55, 56, 57, 58, 59, 60, múltiplo de 10.\n",
      "61, 62, 63, 64, 65, 66, 67, 68, 69, 70, múltiplo de 10.\n",
      "71, 72, 73, 74, 75, 76, 77, 78, 79, 80, múltiplo de 10.\n",
      "81, 82, 83, 84, 85, 86, 87, 88, 89, 90, múltiplo de 10.\n",
      "91, 92, 93, 94, 95, 96, 97, 98, 99, 100, múltiplo de 10.\n"
     ]
    }
   ],
   "source": [
    "numero = 0\n",
    "\"\"\"\n",
    "while numero < 100:\n",
    "    numero+=1\n",
    "    if(numero % 10 == 0):\n",
    "        print(str(numero) + \" é múltiplo de 10;\")\n",
    "\"\"\"\n",
    "for numero in range(1, 101):\n",
    "    print(numero,end=\", \")\n",
    "    if(numero % 10 == 0):\n",
    "        print(\"múltiplo de 10.\")"
   ]
  },
  {
   "cell_type": "code",
   "execution_count": null,
   "metadata": {},
   "outputs": [],
   "source": []
  }
 ],
 "metadata": {
  "kernelspec": {
   "display_name": "Python 3.7.3 64-bit",
   "metadata": {
    "interpreter": {
     "hash": "5edc29c2ed010d6458d71a83433b383a96a8cbd3efe8531bc90c4b8a5b8bcec9"
    }
   },
   "name": "python3"
  },
  "language_info": {
   "codemirror_mode": {
    "name": "ipython",
    "version": 3
   },
   "file_extension": ".py",
   "mimetype": "text/x-python",
   "name": "python",
   "nbconvert_exporter": "python",
   "pygments_lexer": "ipython3",
   "version": "3.7.3"
  },
  "orig_nbformat": 2
 },
 "nbformat": 4,
 "nbformat_minor": 2
}