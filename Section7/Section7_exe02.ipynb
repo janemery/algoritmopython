{
 "cells": [
  {
   "cell_type": "code",
   "execution_count": 7,
   "metadata": {},
   "outputs": [
    {
     "name": "stdout",
     "output_type": "stream",
     "text": [
      "10 é múltiplo de 10;\n",
      "20 é múltiplo de 10;\n",
      "30 é múltiplo de 10;\n",
      "40 é múltiplo de 10;\n",
      "50 é múltiplo de 10;\n",
      "60 é múltiplo de 10;\n",
      "70 é múltiplo de 10;\n",
      "80 é múltiplo de 10;\n",
      "90 é múltiplo de 10;\n",
      "100 é múltiplo de 10;\n"
     ]
    }
   ],
   "source": [
    "numero = 0\n",
    "\n",
    "while numero < 100:\n",
    "    numero+=1\n",
    "    if(numero % 10 == 0):\n",
    "        print(str(numero) + \" é múltiplo de 10;\")"
   ]
  }
 ],
 "metadata": {
  "kernelspec": {
   "display_name": "Python 3.7.3 64-bit",
   "metadata": {
    "interpreter": {
     "hash": "5edc29c2ed010d6458d71a83433b383a96a8cbd3efe8531bc90c4b8a5b8bcec9"
    }
   },
   "name": "python3"
  },
  "language_info": {
   "codemirror_mode": {
    "name": "ipython",
    "version": 3
   },
   "file_extension": ".py",
   "mimetype": "text/x-python",
   "name": "python",
   "nbconvert_exporter": "python",
   "pygments_lexer": "ipython3",
   "version": "3.7.3"
  },
  "orig_nbformat": 2
 },
 "nbformat": 4,
 "nbformat_minor": 2
}