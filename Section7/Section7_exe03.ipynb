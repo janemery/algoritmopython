{
 "cells": [
  {
   "cell_type": "code",
   "execution_count": 14,
   "metadata": {},
   "outputs": [
    {
     "name": "stdout",
     "output_type": "stream",
     "text": [
      "O programa mostra números impares entre 100 e 200:\n",
      "| Ímpares: |\n",
      "101, 103, 105, 107, 109, 111, 113, 115, 117, 119,\n",
      "121, 123, 125, 127, 129, 131, 133, 135, 137, 139,\n",
      "141, 143, 145, 147, 149, 151, 153, 155, 157, 159,\n",
      "161, 163, 165, 167, 169, 171, 173, 175, 177, 179,\n",
      "181, 183, 185, 187, 189, 191, 193, 195, 197, 199,\n"
     ]
    }
   ],
   "source": [
    "# impares entre 100 e 200\n",
    "\n",
    "print(\"O programa mostra números impares entre 100 e 200:\")\n",
    "print(\"| Ímpares: |\")\n",
    "i = 1\n",
    "for n in range (100, 201):\n",
    "    if n % 2 != 0:\n",
    "        if i % 10 != 0:\n",
    "            print(\"{0}\".format(n), end=\", \")\n",
    "            i = i + 1\n",
    "        else:\n",
    "            print(\"{0},\".format(n))\n",
    "            i = i + 1"
   ]
  }
 ],
 "metadata": {
  "kernelspec": {
   "display_name": "Python 3.7.3 64-bit",
   "metadata": {
    "interpreter": {
     "hash": "5edc29c2ed010d6458d71a83433b383a96a8cbd3efe8531bc90c4b8a5b8bcec9"
    }
   },
   "name": "python3"
  },
  "language_info": {
   "codemirror_mode": {
    "name": "ipython",
    "version": 3
   },
   "file_extension": ".py",
   "mimetype": "text/x-python",
   "name": "python",
   "nbconvert_exporter": "python",
   "pygments_lexer": "ipython3",
   "version": "3.7.3"
  },
  "orig_nbformat": 2
 },
 "nbformat": 4,
 "nbformat_minor": 2
}