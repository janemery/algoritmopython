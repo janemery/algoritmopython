{
 "cells": [
  {
   "cell_type": "code",
   "execution_count": 13,
   "metadata": {},
   "outputs": [
    {
     "name": "stdout",
     "output_type": "stream",
     "text": [
      "101 é impar.\n",
      "103 é impar.\n",
      "105 é impar.\n",
      "107 é impar.\n",
      "109 é impar.\n",
      "111 é impar.\n",
      "113 é impar.\n",
      "115 é impar.\n",
      "117 é impar.\n",
      "119 é impar.\n",
      "121 é impar.\n",
      "123 é impar.\n",
      "125 é impar.\n",
      "127 é impar.\n",
      "129 é impar.\n",
      "131 é impar.\n",
      "133 é impar.\n",
      "135 é impar.\n",
      "137 é impar.\n",
      "139 é impar.\n",
      "141 é impar.\n",
      "143 é impar.\n",
      "145 é impar.\n",
      "147 é impar.\n",
      "149 é impar.\n",
      "151 é impar.\n",
      "153 é impar.\n",
      "155 é impar.\n",
      "157 é impar.\n",
      "159 é impar.\n",
      "161 é impar.\n",
      "163 é impar.\n",
      "165 é impar.\n",
      "167 é impar.\n",
      "169 é impar.\n",
      "171 é impar.\n",
      "173 é impar.\n",
      "175 é impar.\n",
      "177 é impar.\n",
      "179 é impar.\n",
      "181 é impar.\n",
      "183 é impar.\n",
      "185 é impar.\n",
      "187 é impar.\n",
      "189 é impar.\n",
      "191 é impar.\n",
      "193 é impar.\n",
      "195 é impar.\n",
      "197 é impar.\n",
      "199 é impar.\n"
     ]
    }
   ],
   "source": [
    "# impares entre 100 e 200\n",
    "impar = 100\n",
    "while 100 <= impar < 200:\n",
    "    impar+=1\n",
    "    if(impar % 2 == 1):\n",
    "        print(str(impar) + \" é impar.\")"
   ]
  }
 ],
 "metadata": {
  "kernelspec": {
   "display_name": "Python 3.7.3 64-bit",
   "metadata": {
    "interpreter": {
     "hash": "5edc29c2ed010d6458d71a83433b383a96a8cbd3efe8531bc90c4b8a5b8bcec9"
    }
   },
   "name": "python3"
  },
  "language_info": {
   "codemirror_mode": {
    "name": "ipython",
    "version": 3
   },
   "file_extension": ".py",
   "mimetype": "text/x-python",
   "name": "python",
   "nbconvert_exporter": "python",
   "pygments_lexer": "ipython3",
   "version": "3.7.3"
  },
  "orig_nbformat": 2
 },
 "nbformat": 4,
 "nbformat_minor": 2
}