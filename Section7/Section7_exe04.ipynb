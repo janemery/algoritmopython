{
 "cells": [
  {
   "cell_type": "code",
   "execution_count": 5,
   "metadata": {},
   "outputs": [
    {
     "name": "stdout",
     "output_type": "stream",
     "text": [
      "O maior número informado foi: 87\n",
      "O menor número informado foi: 8\n",
      "A média dos números informados é: 41.3\n"
     ]
    }
   ],
   "source": [
    "\n",
    "maior = -999\n",
    "menor = 999\n",
    "soma = 0\n",
    "\n",
    "for n in range(1, 11):\n",
    "    numero = int(input(\"Informe um número: \"))\n",
    "    if numero > 0:\n",
    "        if numero > maior:\n",
    "            maior = numero\n",
    "        if numero < menor:\n",
    "            menor = numero\n",
    "        soma = soma + numero\n",
    "    else:\n",
    "        numero = int(input(\"Inválido. Informe um número: \"))\n",
    "media = soma/10\n",
    "print(\"O maior número informado foi: {0}\".format(maior))\n",
    "print(\"O menor número informado foi: {0}\".format(menor))\n",
    "print(\"A média dos números informados é: {0}\".format(media))"
   ]
  }
 ],
 "metadata": {
  "kernelspec": {
   "display_name": "Python 3.7.3 64-bit",
   "metadata": {
    "interpreter": {
     "hash": "5edc29c2ed010d6458d71a83433b383a96a8cbd3efe8531bc90c4b8a5b8bcec9"
    }
   },
   "name": "python3"
  },
  "language_info": {
   "codemirror_mode": {
    "name": "ipython",
    "version": 3
   },
   "file_extension": ".py",
   "mimetype": "text/x-python",
   "name": "python",
   "nbconvert_exporter": "python",
   "pygments_lexer": "ipython3",
   "version": "3.7.3"
  },
  "orig_nbformat": 2
 },
 "nbformat": 4,
 "nbformat_minor": 2
}