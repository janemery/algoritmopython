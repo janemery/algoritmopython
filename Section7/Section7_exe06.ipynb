{
 "cells": [
  {
   "cell_type": "code",
   "execution_count": 3,
   "metadata": {},
   "outputs": [
    {
     "name": "stdout",
     "output_type": "stream",
     "text": [
      "Tabuada de números naturais.\n",
      "Para gerar a tabuada, informe um número:\n",
      "\n",
      "Tabuada de 4\n",
      "4 X 1 = 4\n",
      "4 X 2 = 8\n",
      "4 X 3 = 12\n",
      "4 X 4 = 16\n",
      "4 X 5 = 20\n",
      "4 X 6 = 24\n",
      "4 X 7 = 28\n",
      "4 X 8 = 32\n",
      "4 X 9 = 36\n",
      "4 X 10 = 40\n"
     ]
    }
   ],
   "source": [
    "print(\"Tabuada de números naturais.\")\n",
    "print(\"Para gerar a tabuada, informe um número:\")\n",
    "numero = int(input(\"Informe um número entre 1 e 10: \"))\n",
    "\n",
    "while numero < 1 or numero > 10:\n",
    "    numero = int(input(\"Informe um número entre 1 e 10: \"))\n",
    "print(\"\\nTabuada de {0}\".format(numero))\n",
    "for n in range(1, 11):\n",
    "    print(\"{0} X {1} = {2}\".format(numero, n, (numero * n)))"
   ]
  }
 ],
 "metadata": {
  "kernelspec": {
   "display_name": "Python 3.7.3 64-bit",
   "metadata": {
    "interpreter": {
     "hash": "5edc29c2ed010d6458d71a83433b383a96a8cbd3efe8531bc90c4b8a5b8bcec9"
    }
   },
   "name": "python3"
  },
  "language_info": {
   "codemirror_mode": {
    "name": "ipython",
    "version": 3
   },
   "file_extension": ".py",
   "mimetype": "text/x-python",
   "name": "python",
   "nbconvert_exporter": "python",
   "pygments_lexer": "ipython3",
   "version": "3.7.3"
  },
  "orig_nbformat": 2
 },
 "nbformat": 4,
 "nbformat_minor": 2
}