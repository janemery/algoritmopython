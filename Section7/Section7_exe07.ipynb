{
 "cells": [
  {
   "cell_type": "code",
   "execution_count": 25,
   "metadata": {},
   "outputs": [
    {
     "name": "stdout",
     "output_type": "stream",
     "text": [
      "Opções de defeitos possíveis:\n",
      "01_necessidade de esfera\n",
      "02_necessidade de limpeza\n",
      "03_necessidade de troca\n",
      "04_quebrado ou inutilizado\n",
      "\n",
      " Quantidades do inventário:\n",
      " qtd_esfera 0,\n",
      " qtd_limpeza 0,\n",
      " qtd_trocar 0,\n",
      " quebrado 1\n"
     ]
    }
   ],
   "source": [
    "i = 0\n",
    "qtd_esfera = 0\n",
    "qtd_limpeza = 0\n",
    "qtd_trocar = 0\n",
    "quebrado = 0\n",
    "\n",
    "#defeito = int(input(\"Informe qual o defeito:\"))\n",
    "print(\"Opções de defeitos possíveis:\")\n",
    "print(\"01_necessidade de esfera\")\n",
    "print(\"02_necessidade de limpeza\")\n",
    "print(\"03_necessidade de troca\")\n",
    "print(\"04_quebrado ou inutilizado\")\n",
    "\n",
    "for i in range (1, 2):\n",
    "\n",
    "    defeito = int(input(\"Informe qual o defeito:\"))\n",
    "\n",
    "    if(defeito == 1):\n",
    "        qtd_esfera = qtd_esfera + 1\n",
    "    elif(defeito == 2):\n",
    "        qtd_limpeza = qtd_limpeza + 1\n",
    "    elif(defeito == 3):\n",
    "        qtd_trocar = qtd_trocar + 1\n",
    "    elif(defeito == 4):\n",
    "        quebrado = quebrado + 1\n",
    "\n",
    "print(\"\\n Quantidades do inventário:\\n qtd_esfera {0},\\n qtd_limpeza {1},\\n qtd_trocar {2},\\n quebrado {3}\".format(qtd_esfera, qtd_limpeza, qtd_trocar, quebrado))\n",
    "\n"
   ]
  }
 ],
 "metadata": {
  "kernelspec": {
   "display_name": "Python 3.7.3 64-bit",
   "metadata": {
    "interpreter": {
     "hash": "5edc29c2ed010d6458d71a83433b383a96a8cbd3efe8531bc90c4b8a5b8bcec9"
    }
   },
   "name": "python3"
  },
  "language_info": {
   "codemirror_mode": {
    "name": "ipython",
    "version": 3
   },
   "file_extension": ".py",
   "mimetype": "text/x-python",
   "name": "python",
   "nbconvert_exporter": "python",
   "pygments_lexer": "ipython3",
   "version": "3.7.3"
  },
  "orig_nbformat": 2
 },
 "nbformat": 4,
 "nbformat_minor": 2
}