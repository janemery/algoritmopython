{
 "cells": [
  {
   "cell_type": "code",
   "execution_count": 3,
   "metadata": {},
   "outputs": [
    {
     "name": "stdout",
     "output_type": "stream",
     "text": [
      "Inventário de mouses usados na empresa.\n",
      "O programa deve cadastrar o tombo e o tipo de defeito de cada unidade.\n",
      "\n",
      "\n",
      "Informe o código de acordo com o defeito:\n",
      "1 - necessidade de esfera\n",
      "2 - necessidade de limpeza\n",
      "3 - necessidade de troca\n",
      "4 - quebrado ou inutilizado\n",
      "\n",
      "Defeito inválido. Informe o código do defeito:\n",
      "Defeito inválido. Informe o código do defeito:\n",
      "Inventário concluido. Quantidade de mouses: 10.\n",
      "\n",
      "SITUAÇAO                 QUANTIDADE  PERCENTUAL\n",
      "necessidade de esfera        4         40.00%\n",
      "necessidade de limpeza       2         20.00%\n",
      "necessidade de troca         2         20.00%\n",
      "quebrado ou inutilizado      2         20.00%\n"
     ]
    }
   ],
   "source": [
    "i = 0\n",
    "qtd_esfera = 0\n",
    "qtd_limpeza = 0\n",
    "qtd_trocar = 0\n",
    "qtd_quebrado = 0\n",
    "tombo = 1\n",
    "\n",
    "print(\"Inventário de mouses usados na empresa.\")\n",
    "print(\"O programa deve cadastrar o tombo e o tipo de defeito de cada unidade.\\n\")\n",
    "\n",
    "tombo = int(input(\"Informe o tombo do equipamento:\"))\n",
    "\n",
    "print(\"\\nInforme o código de acordo com o defeito:\")\n",
    "print(\"1 - necessidade de esfera\")\n",
    "print(\"2 - necessidade de limpeza\")\n",
    "print(\"3 - necessidade de troca\")\n",
    "print(\"4 - quebrado ou inutilizado\\n\")\n",
    "\n",
    "while tombo != 0:\n",
    "\n",
    "    while tombo < 0:\n",
    "        print(\"Tombo inválido. Informe o tombo do equipamento.\")\n",
    "        tombo = int(input(\"Tombo inválido. Informe o tombo do equipamento:\"))\n",
    "    \n",
    "    defeito = int(input(\"Informe o código do defeito:\"))\n",
    "\n",
    "    while defeito < 1 or defeito > 4:\n",
    "        print(\"Defeito inválido. Informe o código do defeito:\")\n",
    "        defeito = int(input(\"Defeito inválido. Informe o código do defeito:\"))\n",
    "    else:\n",
    "        if(defeito == 1):\n",
    "            qtd_esfera = qtd_esfera + 1\n",
    "        elif(defeito == 2):\n",
    "            qtd_limpeza = qtd_limpeza + 1\n",
    "        elif(defeito == 3):\n",
    "            qtd_trocar = qtd_trocar + 1\n",
    "        elif(defeito == 4):\n",
    "            qtd_quebrado = qtd_quebrado + 1\n",
    "\n",
    "    tombo = int(input(\"Informe o tombo do equipamento:\"))\n",
    "\n",
    "qtd_total = qtd_esfera + qtd_limpeza + qtd_trocar + qtd_quebrado\n",
    "perc_esfera = (qtd_esfera/qtd_total) * 100\n",
    "perc_limpeza = (qtd_limpeza/qtd_total) * 100\n",
    "perc_trocar = (qtd_trocar/qtd_total) * 100\n",
    "perc_quebrado = (qtd_quebrado/qtd_total) * 100\n",
    "\n",
    "print(\"Inventário concluido. Quantidade de mouses: {0}.\\n\".format(qtd_total))\n",
    "print(\"SITUAÇAO                 QUANTIDADE  PERCENTUAL\")\n",
    "print(\"necessidade de esfera        {0}         {1:.2f}%\".format(qtd_esfera, perc_esfera))\n",
    "print(\"necessidade de limpeza       {0}         {1:.2f}%\".format(qtd_limpeza, perc_limpeza))\n",
    "print(\"necessidade de troca         {0}         {1:.2f}%\".format(qtd_trocar, perc_trocar))\n",
    "print(\"quebrado ou inutilizado      {0}         {1:.2f}%\".format(qtd_quebrado, perc_quebrado))"
   ]
  }
 ],
 "metadata": {
  "kernelspec": {
   "display_name": "Python 3.7.3 64-bit",
   "metadata": {
    "interpreter": {
     "hash": "5edc29c2ed010d6458d71a83433b383a96a8cbd3efe8531bc90c4b8a5b8bcec9"
    }
   },
   "name": "python3"
  },
  "language_info": {
   "codemirror_mode": {
    "name": "ipython",
    "version": 3
   },
   "file_extension": ".py",
   "mimetype": "text/x-python",
   "name": "python",
   "nbconvert_exporter": "python",
   "pygments_lexer": "ipython3",
   "version": "3.7.3"
  },
  "orig_nbformat": 2
 },
 "nbformat": 4,
 "nbformat_minor": 2
}