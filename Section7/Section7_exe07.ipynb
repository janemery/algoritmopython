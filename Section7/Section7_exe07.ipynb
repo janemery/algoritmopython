{
 "cells": [
  {
   "cell_type": "code",
   "execution_count": 47,
   "metadata": {},
   "outputs": [
    {
     "name": "stdout",
     "output_type": "stream",
     "text": [
      "Informe o código de acordo com o defeito:\n",
      "1 - necessidade de esfera\n",
      "2 - necessidade de limpeza\n",
      "3 - necessidade de troca\n",
      "4 - quebrado ou inutilizado\n",
      "\n",
      "\n",
      "Inventário concluido. Foram inventariados 2 itens.\n",
      "\n",
      "Quantidades do inventário:\n",
      " Necessidade de esfera: 2,\n",
      " Necessidade de limpeza: 0,\n",
      " Necessidade de troca: 0,\n",
      " Quebrado ou inutilizado: 0\n"
     ]
    }
   ],
   "source": [
    "i = 0\n",
    "qtd_esfera = 0\n",
    "qtd_limpeza = 0\n",
    "qtd_trocar = 0\n",
    "qtd_quebrado = 0\n",
    "\n",
    "print(\"Informe o código de acordo com o defeito:\")\n",
    "print(\"1 - necessidade de esfera\")\n",
    "print(\"2 - necessidade de limpeza\")\n",
    "print(\"3 - necessidade de troca\")\n",
    "print(\"4 - quebrado ou inutilizado\\n\")\n",
    "\n",
    "for i in range (1, 3):\n",
    "\n",
    "    codigo = int(input(\"Informe o código do equipamento:\"))\n",
    "    if codigo <= 0:\n",
    "        print(\"Código inválido.\")\n",
    "        codigo = int(input(\"Informe o código do equipamento:\"))\n",
    "\n",
    "    defeito = int(input(\"Informe o código do defeito:\"))\n",
    "    if 1 > defeito > 4:\n",
    "        print(\"Código inválido.\")\n",
    "        defeito = int(input(\"Informe o código do defeito:\"))\n",
    "    else:\n",
    "        if(defeito == 1):\n",
    "            qtd_esfera = qtd_esfera + 1\n",
    "        elif(defeito == 2):\n",
    "            qtd_limpeza = qtd_limpeza + 1\n",
    "        elif(defeito == 3):\n",
    "            qtd_trocar = qtd_trocar + 1\n",
    "        elif(defeito == 4):\n",
    "            qtd_quebrado = qtd_quebrado + 1\n",
    "    qtd_total = qtd_esfera + qtd_limpeza + qtd_trocar + qtd_quebrado\n",
    "\n",
    "print(\"\\nInventário concluido. Foram inventariados {0} itens.\\n\".format(qtd_total))\n",
    "print(\"Quantidades:\\n Necessidade de esfera: {0},\\n Necessidade de limpeza: {1},\\n Necessidade de troca: {2},\\n Quebrado ou inutilizado: {3}\".format(qtd_esfera, qtd_limpeza, qtd_trocar, quebrado))\n",
    "\n"
   ]
  }
 ],
 "metadata": {
  "kernelspec": {
   "display_name": "Python 3.7.3 64-bit",
   "metadata": {
    "interpreter": {
     "hash": "5edc29c2ed010d6458d71a83433b383a96a8cbd3efe8531bc90c4b8a5b8bcec9"
    }
   },
   "name": "python3"
  },
  "language_info": {
   "codemirror_mode": {
    "name": "ipython",
    "version": 3
   },
   "file_extension": ".py",
   "mimetype": "text/x-python",
   "name": "python",
   "nbconvert_exporter": "python",
   "pygments_lexer": "ipython3",
   "version": "3.7.3"
  },
  "orig_nbformat": 2
 },
 "nbformat": 4,
 "nbformat_minor": 2
}