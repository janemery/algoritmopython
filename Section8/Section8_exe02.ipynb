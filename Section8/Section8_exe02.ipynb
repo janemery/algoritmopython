{
 "cells": [
  {
   "cell_type": "code",
   "execution_count": 24,
   "metadata": {},
   "outputs": [
    {
     "name": "stdout",
     "output_type": "stream",
     "text": [
      "O programa deve receber duas listas de números inteiros e mostrar a soma dos números de mesmo índice\n",
      "Mostrar a soma numa terceira lista.\n",
      "\n",
      "A sua primeira lista é: [1, 3, 5, 7, 9, 11, 13, 15, 17, 19]\n",
      "A sua segunda lista é: [2, 4, 6, 8, 10, 12, 14, 16, 18, 20]\n",
      "A lista de soma é: [3, 7, 11, 15, 19, 23, 27, 31, 35, 39]\n"
     ]
    }
   ],
   "source": [
    "vetor1 = []\n",
    "vetor2 = []\n",
    "vetor3 = []\n",
    "\n",
    "print(\"O programa deve receber duas listas de números inteiros e mostrar a soma dos números de mesmo índice\")\n",
    "print(\"Mostrar a soma numa terceira lista.\")\n",
    "\n",
    "for n in range(1, 11):\n",
    "    n1 = int(input(\"informe um valor para a primeira lista:\"))\n",
    "    vetor1.append(n1)\n",
    "    n2 = int(input(\"informe um valor para a segunda lista:\"))\n",
    "    vetor2.append(n2)\n",
    "\n",
    "    vetor3.append(n1 + n2)\n",
    "\n",
    "print(\"\\nA sua primeira lista é: \" + str(vetor1))\n",
    "print(\"A sua segunda lista é: \" + str(vetor2))\n",
    "print(\"A lista de soma é: \" + str(vetor3))\n",
    "\n"
   ]
  }
 ],
 "metadata": {
  "kernelspec": {
   "display_name": "Python 3.7.3 64-bit",
   "metadata": {
    "interpreter": {
     "hash": "5edc29c2ed010d6458d71a83433b383a96a8cbd3efe8531bc90c4b8a5b8bcec9"
    }
   },
   "name": "python3"
  },
  "language_info": {
   "codemirror_mode": {
    "name": "ipython",
    "version": 3
   },
   "file_extension": ".py",
   "mimetype": "text/x-python",
   "name": "python",
   "nbconvert_exporter": "python",
   "pygments_lexer": "ipython3",
   "version": "3.7.3"
  },
  "orig_nbformat": 2
 },
 "nbformat": 4,
 "nbformat_minor": 2
}