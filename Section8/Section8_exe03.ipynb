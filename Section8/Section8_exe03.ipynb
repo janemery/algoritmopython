{
 "cells": [
  {
   "cell_type": "code",
   "execution_count": 15,
   "metadata": {},
   "outputs": [
    {
     "name": "stdout",
     "output_type": "stream",
     "text": [
      "O programa deve receber 10 números.\n",
      " Deve mostrar os números na ordem inversa a entrada:\n",
      "Números invertidos: 10, 9, 8, 7, 6, 5, 4, 3, 2, 1, "
     ]
    }
   ],
   "source": [
    "print(\"O programa deve receber 10 números.\\n Deve mostrar os números na ordem inversa a entrada:\")\n",
    "\n",
    "vetor = []\n",
    "for n in range (0,10):\n",
    "    numero = int(input(\"Informe o valor para o vetor:\"))\n",
    "    vetor.append(numero)\n",
    "vetor.reverse()\n",
    "print(\"Números invertidos: \", end=\"\")\n",
    "for p in vetor:\n",
    "    print(p, end=\", \")\n",
    "\n"
   ]
  }
 ],
 "metadata": {
  "kernelspec": {
   "display_name": "Python 3.7.3 64-bit",
   "metadata": {
    "interpreter": {
     "hash": "5edc29c2ed010d6458d71a83433b383a96a8cbd3efe8531bc90c4b8a5b8bcec9"
    }
   },
   "name": "python3"
  },
  "language_info": {
   "codemirror_mode": {
    "name": "ipython",
    "version": 3
   },
   "file_extension": ".py",
   "mimetype": "text/x-python",
   "name": "python",
   "nbconvert_exporter": "python",
   "pygments_lexer": "ipython3",
   "version": "3.7.3"
  },
  "orig_nbformat": 2
 },
 "nbformat": 4,
 "nbformat_minor": 2
}