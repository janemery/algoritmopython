{
 "cells": [
  {
   "cell_type": "code",
   "execution_count": 1,
   "metadata": {},
   "outputs": [
    {
     "name": "stdout",
     "output_type": "stream",
     "text": [
      "O programa deve receber 10 números.\n",
      "Deve mostrar os números na ordem inversa a entrada:\n",
      "Números invertidos: 21, 20, 19, 18, 17, 16, 15, 14, 13, 12, "
     ]
    }
   ],
   "source": [
    "print(\"O programa deve receber 10 números.\\nDeve mostrar os números na ordem inversa a entrada:\")\n",
    "\n",
    "vetor = []\n",
    "for n in range (0,10):\n",
    "    numero = int(input(\"Informe o valor para o vetor:\"))\n",
    "    vetor.append(numero)\n",
    "vetor.reverse()\n",
    "print(\"Números invertidos: \", end=\"\")\n",
    "for p in vetor:\n",
    "    print(p, end=\", \")\n",
    "\n"
   ]
  }
 ],
 "metadata": {
  "kernelspec": {
   "display_name": "Python 3.7.3 64-bit",
   "name": "python373jvsc74a57bd031f2aee4e71d21fbe5cf8b01ff0e069b9275f58929596ceb00d14d90e3e16cd6"
  },
  "language_info": {
   "codemirror_mode": {
    "name": "ipython",
    "version": 3
   },
   "file_extension": ".py",
   "mimetype": "text/x-python",
   "name": "python",
   "nbconvert_exporter": "python",
   "pygments_lexer": "ipython3",
   "version": "3.7.3"
  },
  "metadata": {
   "interpreter": {
    "hash": "31f2aee4e71d21fbe5cf8b01ff0e069b9275f58929596ceb00d14d90e3e16cd6"
   }
  },
  "orig_nbformat": 3
 },
 "nbformat": 4,
 "nbformat_minor": 2
}