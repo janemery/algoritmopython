{
 "cells": [
  {
   "cell_type": "code",
   "execution_count": 11,
   "metadata": {},
   "outputs": [
    {
     "name": "stdout",
     "output_type": "stream",
     "text": [
      "O programa deve ler 20 elementos inteiros.\n",
      "Ao final, mostrar a soma de todos os elementos.\n",
      "\n",
      "Numeros informados: [1, 2, 3, 4, 5, 6, 7, 8, 9, 10]\n",
      "A soma dos números informados é: 55\n"
     ]
    }
   ],
   "source": [
    "print(\"O programa deve ler 20 elementos inteiros.\\nAo final, mostrar a soma de todos os elementos.\\n\")\n",
    "\n",
    "i = 0\n",
    "vetor = []\n",
    "soma = 0\n",
    "for n in range (0,10):\n",
    "    numero = int(input(\"Informe o número {0}/20 da lista: \".format(n+i)))\n",
    "    vetor.append(numero)\n",
    "    soma = soma + numero\n",
    "print(\"Numeros informados: \" + str(vetor))\n",
    "print(\"A soma dos números informados é: \" + str(soma))"
   ]
  }
 ],
 "metadata": {
  "kernelspec": {
   "display_name": "Python 3.7.3 64-bit",
   "metadata": {
    "interpreter": {
     "hash": "5edc29c2ed010d6458d71a83433b383a96a8cbd3efe8531bc90c4b8a5b8bcec9"
    }
   },
   "name": "python3"
  },
  "language_info": {
   "codemirror_mode": {
    "name": "ipython",
    "version": 3
   },
   "file_extension": ".py",
   "mimetype": "text/x-python",
   "name": "python",
   "nbconvert_exporter": "python",
   "pygments_lexer": "ipython3",
   "version": "3.7.3"
  },
  "orig_nbformat": 2
 },
 "nbformat": 4,
 "nbformat_minor": 2
}