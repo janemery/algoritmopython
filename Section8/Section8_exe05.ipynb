{
 "cells": [
  {
   "cell_type": "code",
   "execution_count": 1,
   "metadata": {},
   "outputs": [
    {
     "name": "stdout",
     "output_type": "stream",
     "text": [
      "Mostre números informados maiores que 50:\n",
      "O número 90 está na posição 1 do vetor.\n",
      "O número 87 está na posição 2 do vetor.\n",
      "O número 65 está na posição 3 do vetor.\n"
     ]
    }
   ],
   "source": [
    "\"\"\"\n",
    "Faça um programa que carregue um vetor com 10 numeros inteiros.\n",
    "Calcule e mostre os números superiores a 50 e suas respectivas\n",
    "posições Mostrar mensagem se não existir nenhum número nesta \n",
    "condição;\n",
    "\"\"\"\n",
    "vetor = []\n",
    "tem_maior_50 = False\n",
    "print(\"Mostre números informados maiores que 50:\")\n",
    "for i in range (1,5):\n",
    "    numero = int(input(\"Informe o número {0}/10:\".format(i-1)))\n",
    "    vetor.append(numero)\n",
    "for numero in vetor:\n",
    "    if numero > 50:\n",
    "        print(\"O número {0} está na posição {1} do vetor.\".format(numero, vetor.index(numero)))\n",
    "        tem_maior_50 = True\n",
    "if (tem_maior_50 == False):\n",
    "    print(\"\\nNão existe nenhum número maior que 50.\")\n"
   ]
  }
 ],
 "metadata": {
  "kernelspec": {
   "display_name": "Python 3.7.3 64-bit",
   "name": "python373jvsc74a57bd031f2aee4e71d21fbe5cf8b01ff0e069b9275f58929596ceb00d14d90e3e16cd6"
  },
  "language_info": {
   "codemirror_mode": {
    "name": "ipython",
    "version": 3
   },
   "file_extension": ".py",
   "mimetype": "text/x-python",
   "name": "python",
   "nbconvert_exporter": "python",
   "pygments_lexer": "ipython3",
   "version": "3.7.3"
  },
  "metadata": {
   "interpreter": {
    "hash": "31f2aee4e71d21fbe5cf8b01ff0e069b9275f58929596ceb00d14d90e3e16cd6"
   }
  },
  "orig_nbformat": 2
 },
 "nbformat": 4,
 "nbformat_minor": 2
}