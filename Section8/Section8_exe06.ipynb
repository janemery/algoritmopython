{
 "cells": [
  {
   "cell_type": "code",
   "execution_count": 16,
   "metadata": {},
   "outputs": [
    {
     "name": "stdout",
     "output_type": "stream",
     "text": [
      "2.0, 3.0, 4.0, 5.0, 6.0, \n",
      "Fim do programa\n"
     ]
    }
   ],
   "source": [
    "'''\n",
    "crie um programa que recebe um código numérico inteiro e um vetor de 5 posições em números reais.\n",
    "Se o código for 0, termine o programa. Se o código for 1, mostre o vetor na ordem direta, Se o \n",
    "código for 2, mostre o vetor na ordem inversa, \n",
    "'''\n",
    "\n",
    "vetor = []\n",
    "codigo = int(input(\"informe um código:\"))\n",
    "\n",
    "if codigo != 0:\n",
    "    for i in range(0, 5):\n",
    "        numero = float(input(\"Informe um número:\"))\n",
    "        vetor.append(numero)\n",
    "    if codigo == 1:\n",
    "        for n in vetor:\n",
    "            print(str(n), end=\", \")\n",
    "    elif codigo == 2:\n",
    "        vetor.reverse()\n",
    "        for n in vetor:\n",
    "            print(str(n), end=\", \")\n",
    "print(\"\\nFim do programa\")"
   ]
  }
 ],
 "metadata": {
  "kernelspec": {
   "display_name": "Python 3.7.3 64-bit",
   "metadata": {
    "interpreter": {
     "hash": "5edc29c2ed010d6458d71a83433b383a96a8cbd3efe8531bc90c4b8a5b8bcec9"
    }
   },
   "name": "python3"
  },
  "language_info": {
   "codemirror_mode": {
    "name": "ipython",
    "version": 3
   },
   "file_extension": ".py",
   "mimetype": "text/x-python",
   "name": "python",
   "nbconvert_exporter": "python",
   "pygments_lexer": "ipython3",
   "version": "3.7.3"
  },
  "orig_nbformat": 2
 },
 "nbformat": 4,
 "nbformat_minor": 2
}