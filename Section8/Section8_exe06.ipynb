{
 "cells": [
  {
   "cell_type": "code",
   "execution_count": 1,
   "metadata": {},
   "outputs": [
    {
     "name": "stdout",
     "output_type": "stream",
     "text": [
      "1.0, 1.0, 1.0, 1.0, 1.0, \n",
      "Fim do programa\n"
     ]
    }
   ],
   "source": [
    "'''\n",
    "crie um programa que recebe um código numérico inteiro e um vetor de 5 posições em números reais.\n",
    "Se o código for 0, termine o programa. Se o código for 1, mostre o vetor na ordem direta, Se o \n",
    "código for 2, mostre o vetor na ordem inversa, \n",
    "'''\n",
    "\n",
    "vetor = []\n",
    "codigo = int(input(\"informe um código:\"))\n",
    "\n",
    "if codigo != 0:\n",
    "    for i in range(0, 5):\n",
    "        numero = float(input(\"Informe um número:\"))\n",
    "        vetor.append(numero)\n",
    "    if codigo == 1:\n",
    "        for n in vetor:\n",
    "            print(str(n), end=\", \")\n",
    "    elif codigo == 2:\n",
    "        vetor.reverse()\n",
    "        for n in vetor:\n",
    "            print(str(n), end=\", \")\n",
    "print(\"\\nFim do programa\")"
   ]
  }
 ],
 "metadata": {
  "interpreter": {
   "hash": "5edc29c2ed010d6458d71a83433b383a96a8cbd3efe8531bc90c4b8a5b8bcec9"
  },
  "kernelspec": {
   "display_name": "Python 3.7.3 64-bit",
   "language": "python",
   "name": "python3"
  },
  "language_info": {
   "codemirror_mode": {
    "name": "ipython",
    "version": 3
   },
   "file_extension": ".py",
   "mimetype": "text/x-python",
   "name": "python",
   "nbconvert_exporter": "python",
   "pygments_lexer": "ipython3",
   "version": "3.7.3"
  },
  "metadata": {
   "interpreter": {
    "hash": "31f2aee4e71d21fbe5cf8b01ff0e069b9275f58929596ceb00d14d90e3e16cd6"
   }
  },
  "orig_nbformat": 3
 },
 "nbformat": 4,
 "nbformat_minor": 2
}
